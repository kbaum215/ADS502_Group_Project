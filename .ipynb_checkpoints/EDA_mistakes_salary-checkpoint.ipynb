{
 "cells": [
  {
   "cell_type": "markdown",
   "metadata": {},
   "source": [
    "## Finding Errors Manually\n",
    "\n",
    "This is an exploratory notebook for identifying potential mistakes (as outliers) and tagging them into a CSV."
   ]
  },
  {
   "cell_type": "code",
   "execution_count": 1,
   "metadata": {},
   "outputs": [],
   "source": [
    "import pandas as pd\n",
    "import numpy as np\n",
    "\n",
    "import matplotlib.pyplot as plt\n",
    "import seaborn as sns"
   ]
  },
  {
   "cell_type": "code",
   "execution_count": 2,
   "metadata": {},
   "outputs": [
    {
     "data": {
      "text/html": [
       "<div>\n",
       "<style scoped>\n",
       "    .dataframe tbody tr th:only-of-type {\n",
       "        vertical-align: middle;\n",
       "    }\n",
       "\n",
       "    .dataframe tbody tr th {\n",
       "        vertical-align: top;\n",
       "    }\n",
       "\n",
       "    .dataframe thead th {\n",
       "        text-align: right;\n",
       "    }\n",
       "</style>\n",
       "<table border=\"1\" class=\"dataframe\">\n",
       "  <thead>\n",
       "    <tr style=\"text-align: right;\">\n",
       "      <th></th>\n",
       "      <th>id</th>\n",
       "      <th>cik</th>\n",
       "      <th>ticker</th>\n",
       "      <th>name</th>\n",
       "      <th>position</th>\n",
       "      <th>year</th>\n",
       "      <th>salary</th>\n",
       "      <th>bonus</th>\n",
       "      <th>stockAwards</th>\n",
       "      <th>optionAwards</th>\n",
       "      <th>nonEquityIncentiveCompensation</th>\n",
       "      <th>otherCompensation</th>\n",
       "      <th>total</th>\n",
       "      <th>changeInPensionValueAndDeferredEarnings</th>\n",
       "      <th>CEO</th>\n",
       "      <th>CFO</th>\n",
       "      <th>Interim</th>\n",
       "    </tr>\n",
       "  </thead>\n",
       "  <tbody>\n",
       "    <tr>\n",
       "      <th>0</th>\n",
       "      <td>73b3a60ba203743c008330c96b7d8b66</td>\n",
       "      <td>1090872</td>\n",
       "      <td>A</td>\n",
       "      <td>Sam Raha</td>\n",
       "      <td>Senior Vice President, President Diagnostics a...</td>\n",
       "      <td>2021</td>\n",
       "      <td>563500</td>\n",
       "      <td>0</td>\n",
       "      <td>1541332</td>\n",
       "      <td>0</td>\n",
       "      <td>738536</td>\n",
       "      <td>33534</td>\n",
       "      <td>3262887</td>\n",
       "      <td>NaN</td>\n",
       "      <td>False</td>\n",
       "      <td>False</td>\n",
       "      <td>False</td>\n",
       "    </tr>\n",
       "    <tr>\n",
       "      <th>1</th>\n",
       "      <td>97393f60cd9f321650e472673daaa70c</td>\n",
       "      <td>1090872</td>\n",
       "      <td>A</td>\n",
       "      <td>Michael R. McMullen</td>\n",
       "      <td>Chief Executive Officer</td>\n",
       "      <td>2021</td>\n",
       "      <td>1280000</td>\n",
       "      <td>0</td>\n",
       "      <td>9165390</td>\n",
       "      <td>0</td>\n",
       "      <td>3149714</td>\n",
       "      <td>77512</td>\n",
       "      <td>15967631</td>\n",
       "      <td>NaN</td>\n",
       "      <td>True</td>\n",
       "      <td>False</td>\n",
       "      <td>False</td>\n",
       "    </tr>\n",
       "    <tr>\n",
       "      <th>2</th>\n",
       "      <td>83b9cc2bca477fe8ce23e0ab56e70c66</td>\n",
       "      <td>1090872</td>\n",
       "      <td>A</td>\n",
       "      <td>Jacob Thaysen</td>\n",
       "      <td>Senior Vice President, President Life Sciences...</td>\n",
       "      <td>2021</td>\n",
       "      <td>625000</td>\n",
       "      <td>0</td>\n",
       "      <td>1812285</td>\n",
       "      <td>0</td>\n",
       "      <td>897589</td>\n",
       "      <td>13684</td>\n",
       "      <td>3802349</td>\n",
       "      <td>NaN</td>\n",
       "      <td>False</td>\n",
       "      <td>False</td>\n",
       "      <td>False</td>\n",
       "    </tr>\n",
       "  </tbody>\n",
       "</table>\n",
       "</div>"
      ],
      "text/plain": [
       "                                 id      cik ticker                 name  \\\n",
       "0  73b3a60ba203743c008330c96b7d8b66  1090872      A             Sam Raha   \n",
       "1  97393f60cd9f321650e472673daaa70c  1090872      A  Michael R. McMullen   \n",
       "2  83b9cc2bca477fe8ce23e0ab56e70c66  1090872      A        Jacob Thaysen   \n",
       "\n",
       "                                            position  year   salary  bonus  \\\n",
       "0  Senior Vice President, President Diagnostics a...  2021   563500      0   \n",
       "1                            Chief Executive Officer  2021  1280000      0   \n",
       "2  Senior Vice President, President Life Sciences...  2021   625000      0   \n",
       "\n",
       "   stockAwards  optionAwards  nonEquityIncentiveCompensation  \\\n",
       "0      1541332             0                          738536   \n",
       "1      9165390             0                         3149714   \n",
       "2      1812285             0                          897589   \n",
       "\n",
       "   otherCompensation     total  changeInPensionValueAndDeferredEarnings  \\\n",
       "0              33534   3262887                                      NaN   \n",
       "1              77512  15967631                                      NaN   \n",
       "2              13684   3802349                                      NaN   \n",
       "\n",
       "     CEO    CFO  Interim  \n",
       "0  False  False    False  \n",
       "1   True  False    False  \n",
       "2  False  False    False  "
      ]
     },
     "execution_count": 2,
     "metadata": {},
     "output_type": "execute_result"
    }
   ],
   "source": [
    "starter_df = pd.read_csv('raw_SCT_pay_file.csv')\n",
    "\n",
    "starter_df.head(3)"
   ]
  },
  {
   "cell_type": "code",
   "execution_count": 14,
   "metadata": {},
   "outputs": [
    {
     "data": {
      "text/plain": [
       "<AxesSubplot:xlabel='salary', ylabel='Count'>"
      ]
     },
     "execution_count": 14,
     "metadata": {},
     "output_type": "execute_result"
    },
    {
     "data": {
      "image/png": "[encoded data removed]",
      "text/plain": [
       "<Figure size 432x288 with 1 Axes>"
      ]
     },
     "metadata": {
      "needs_background": "light"
     },
     "output_type": "display_data"
    }
   ],
   "source": [
    "sns.histplot(starter_df[starter_df['salary'] < 100000000]['salary'])"
   ]
  },
  {
   "cell_type": "markdown",
   "metadata": {},
   "source": [
    "### Visualizations to Find Errors"
   ]
  },
  {
   "cell_type": "code",
   "execution_count": null,
   "metadata": {},
   "outputs": [],
   "source": [
    "plt.figure(figsize=(12,3))\n",
    "sns.histplot(data=starter_df[starter_df['salary']>1], x='salary');"
   ]
  },
  {
   "cell_type": "code",
   "execution_count": null,
   "metadata": {},
   "outputs": [],
   "source": [
    "plt.figure(figsize=(12,3))\n",
    "sns.rugplot(x=starter_df['salary']);"
   ]
  },
  {
   "cell_type": "code",
   "execution_count": null,
   "metadata": {},
   "outputs": [],
   "source": [
    "plt.figure(figsize=(12,3))\n",
    "sns.boxplot(x=starter_df['salary']);"
   ]
  },
  {
   "cell_type": "code",
   "execution_count": null,
   "metadata": {},
   "outputs": [],
   "source": []
  },
  {
   "cell_type": "markdown",
   "metadata": {},
   "source": [
    "##### This next section of code works in several parts:\n",
    "1. Identify the DataFrame row index that has the highest salary\n",
    "2. Slice the DataFrame to display only that row\n",
    "3. If this is a genuine mistake, add it to the `mistake_df` DataFrame\n",
    "4. Drop that row from the original DataFrame and reset the index"
   ]
  },
  {
   "cell_type": "code",
   "execution_count": 15,
   "metadata": {},
   "outputs": [
    {
     "data": {
      "text/plain": [
       "salary    149457\n",
       "dtype: int64"
      ]
     },
     "execution_count": 15,
     "metadata": {},
     "output_type": "execute_result"
    }
   ],
   "source": [
    "starter_df[['salary']].astype('float').idxmax()"
   ]
  },
  {
   "cell_type": "code",
   "execution_count": 16,
   "metadata": {},
   "outputs": [
    {
     "data": {
      "text/html": [
       "<div>\n",
       "<style scoped>\n",
       "    .dataframe tbody tr th:only-of-type {\n",
       "        vertical-align: middle;\n",
       "    }\n",
       "\n",
       "    .dataframe tbody tr th {\n",
       "        vertical-align: top;\n",
       "    }\n",
       "\n",
       "    .dataframe thead th {\n",
       "        text-align: right;\n",
       "    }\n",
       "</style>\n",
       "<table border=\"1\" class=\"dataframe\">\n",
       "  <thead>\n",
       "    <tr style=\"text-align: right;\">\n",
       "      <th></th>\n",
       "      <th>id</th>\n",
       "      <th>cik</th>\n",
       "      <th>ticker</th>\n",
       "      <th>name</th>\n",
       "      <th>position</th>\n",
       "      <th>year</th>\n",
       "      <th>salary</th>\n",
       "      <th>bonus</th>\n",
       "      <th>stockAwards</th>\n",
       "      <th>optionAwards</th>\n",
       "      <th>nonEquityIncentiveCompensation</th>\n",
       "      <th>otherCompensation</th>\n",
       "      <th>total</th>\n",
       "      <th>changeInPensionValueAndDeferredEarnings</th>\n",
       "      <th>CEO</th>\n",
       "      <th>CFO</th>\n",
       "      <th>Interim</th>\n",
       "    </tr>\n",
       "  </thead>\n",
       "  <tbody>\n",
       "    <tr>\n",
       "      <th>149457</th>\n",
       "      <td>1e4ef9a59c291947b10235e1cca11435</td>\n",
       "      <td>318300</td>\n",
       "      <td>PEBO</td>\n",
       "      <td>Deborah K. Hill</td>\n",
       "      <td>Executive Vice President, Consumer and Busines...</td>\n",
       "      <td>2008</td>\n",
       "      <td>18200060667</td>\n",
       "      <td>30000</td>\n",
       "      <td>30135</td>\n",
       "      <td>4436</td>\n",
       "      <td>0</td>\n",
       "      <td>10127</td>\n",
       "      <td>256698</td>\n",
       "      <td>NaN</td>\n",
       "      <td>False</td>\n",
       "      <td>False</td>\n",
       "      <td>False</td>\n",
       "    </tr>\n",
       "  </tbody>\n",
       "</table>\n",
       "</div>"
      ],
      "text/plain": [
       "                                      id     cik ticker             name  \\\n",
       "149457  1e4ef9a59c291947b10235e1cca11435  318300   PEBO  Deborah K. Hill   \n",
       "\n",
       "                                                 position  year       salary  \\\n",
       "149457  Executive Vice President, Consumer and Busines...  2008  18200060667   \n",
       "\n",
       "        bonus  stockAwards  optionAwards  nonEquityIncentiveCompensation  \\\n",
       "149457  30000        30135          4436                               0   \n",
       "\n",
       "        otherCompensation   total  changeInPensionValueAndDeferredEarnings  \\\n",
       "149457              10127  256698                                      NaN   \n",
       "\n",
       "          CEO    CFO  Interim  \n",
       "149457  False  False    False  "
      ]
     },
     "execution_count": 16,
     "metadata": {},
     "output_type": "execute_result"
    }
   ],
   "source": [
    "#find the index of the highest salary\n",
    "highest_salary_index = starter_df[['salary']].astype('float').idxmax()\n",
    "\n",
    "#only run this the first time\n",
    "#mistakes_df = starter_df.iloc[highest_salary_index].copy()\n",
    "\n",
    "#look at this highest salary, which is clearly incorrect\n",
    "starter_df.iloc[highest_salary_index]\n"
   ]
  },
  {
   "cell_type": "code",
   "execution_count": null,
   "metadata": {},
   "outputs": [],
   "source": [
    "mistakes_df = pd.concat([mistakes_df,starter_df.iloc[highest_salary_index]])"
   ]
  },
  {
   "cell_type": "code",
   "execution_count": null,
   "metadata": {},
   "outputs": [],
   "source": [
    "#dropping the highest salary row\n",
    "starter_df.drop(labels=[highest_salary_index[0]],axis=0,inplace=True)\n",
    "starter_df.reset_index(inplace=True, drop=True)"
   ]
  },
  {
   "cell_type": "code",
   "execution_count": null,
   "metadata": {},
   "outputs": [],
   "source": [
    "#write the mistakes to a CSV (DO NOT REPLACE ORIGINAL)\n",
    "#mistakes_df.to_csv('mistakes.csv')#,index = False)"
   ]
  },
  {
   "cell_type": "code",
   "execution_count": null,
   "metadata": {},
   "outputs": [],
   "source": [
    "mistakes_df['ticker'].value_counts()"
   ]
  },
  {
   "cell_type": "code",
   "execution_count": null,
   "metadata": {},
   "outputs": [],
   "source": []
  }
 ],
 "metadata": {
  "kernelspec": {
   "display_name": "Python 3 (ipykernel)",
   "language": "python",
   "name": "python3"
  },
  "language_info": {
   "codemirror_mode": {
    "name": "ipython",
    "version": 3
   },
   "file_extension": ".py",
   "mimetype": "text/x-python",
   "name": "python",
   "nbconvert_exporter": "python",
   "pygments_lexer": "ipython3",
   "version": "3.10.8"
  }
 },
 "nbformat": 4,
 "nbformat_minor": 4
}
