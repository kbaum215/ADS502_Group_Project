{
 "cells": [
  {
   "cell_type": "markdown",
   "id": "4eadbb75-df7d-465a-b259-91c2632530db",
   "metadata": {},
   "source": [
    "This notebook is a test!"
   ]
  },
  {
   "cell_type": "code",
   "execution_count": 1,
   "id": "092be44e-cca7-4f86-8fa4-886c3680632b",
   "metadata": {},
   "outputs": [
    {
     "name": "stdout",
     "output_type": "stream",
     "text": [
      "This is definitely not what Kevin had written\n"
     ]
    }
   ],
   "source": [
    "print('This is definitely not what Kevin had written')"
   ]
  },
  {
   "cell_type": "code",
   "execution_count": null,
   "id": "63099998-9731-4c10-be89-b86738de5497",
   "metadata": {},
   "outputs": [],
   "source": []
  }
 ],
 "metadata": {
  "kernelspec": {
   "display_name": "Python 3 (ipykernel)",
   "language": "python",
   "name": "python3"
  },
  "language_info": {
   "codemirror_mode": {
    "name": "ipython",
    "version": 3
   },
   "file_extension": ".py",
   "mimetype": "text/x-python",
   "name": "python",
   "nbconvert_exporter": "python",
   "pygments_lexer": "ipython3",
   "version": "3.10.8"
  }
 },
 "nbformat": 4,
 "nbformat_minor": 5
}
